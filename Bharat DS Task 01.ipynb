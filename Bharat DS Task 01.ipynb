{
 "cells": [
  {
   "cell_type": "markdown",
   "id": "905b3ca6",
   "metadata": {},
   "source": [
    "# Task 01"
   ]
  },
  {
   "cell_type": "markdown",
   "id": "33f3ace5",
   "metadata": {},
   "source": [
    "# Import labrary"
   ]
  },
  {
   "cell_type": "code",
   "execution_count": 1,
   "id": "4d5dfacd",
   "metadata": {},
   "outputs": [],
   "source": [
    "import pandas as pd"
   ]
  },
  {
   "cell_type": "markdown",
   "id": "f332ec7c",
   "metadata": {},
   "source": [
    "# Import Dataset"
   ]
  },
  {
   "cell_type": "code",
   "execution_count": 2,
   "id": "616eeca1",
   "metadata": {},
   "outputs": [
    {
     "data": {
      "text/html": [
       "<div>\n",
       "<style scoped>\n",
       "    .dataframe tbody tr th:only-of-type {\n",
       "        vertical-align: middle;\n",
       "    }\n",
       "\n",
       "    .dataframe tbody tr th {\n",
       "        vertical-align: top;\n",
       "    }\n",
       "\n",
       "    .dataframe thead th {\n",
       "        text-align: right;\n",
       "    }\n",
       "</style>\n",
       "<table border=\"1\" class=\"dataframe\">\n",
       "  <thead>\n",
       "    <tr style=\"text-align: right;\">\n",
       "      <th></th>\n",
       "      <th>Date</th>\n",
       "      <th>Open</th>\n",
       "      <th>High</th>\n",
       "      <th>Low</th>\n",
       "      <th>Close</th>\n",
       "      <th>Adj Close</th>\n",
       "      <th>Volume</th>\n",
       "    </tr>\n",
       "  </thead>\n",
       "  <tbody>\n",
       "    <tr>\n",
       "      <th>0</th>\n",
       "      <td>2004-08-27</td>\n",
       "      <td>122.800003</td>\n",
       "      <td>122.800003</td>\n",
       "      <td>119.820000</td>\n",
       "      <td>120.332497</td>\n",
       "      <td>88.088272</td>\n",
       "      <td>30646000.0</td>\n",
       "    </tr>\n",
       "    <tr>\n",
       "      <th>1</th>\n",
       "      <td>2004-08-30</td>\n",
       "      <td>121.237503</td>\n",
       "      <td>123.750000</td>\n",
       "      <td>120.625000</td>\n",
       "      <td>123.345001</td>\n",
       "      <td>90.293549</td>\n",
       "      <td>24465208.0</td>\n",
       "    </tr>\n",
       "    <tr>\n",
       "      <th>2</th>\n",
       "      <td>2004-08-31</td>\n",
       "      <td>123.312500</td>\n",
       "      <td>123.750000</td>\n",
       "      <td>122.000000</td>\n",
       "      <td>123.512497</td>\n",
       "      <td>90.416122</td>\n",
       "      <td>21194656.0</td>\n",
       "    </tr>\n",
       "    <tr>\n",
       "      <th>3</th>\n",
       "      <td>2004-09-01</td>\n",
       "      <td>123.750000</td>\n",
       "      <td>124.375000</td>\n",
       "      <td>122.949997</td>\n",
       "      <td>123.487503</td>\n",
       "      <td>90.397820</td>\n",
       "      <td>19935544.0</td>\n",
       "    </tr>\n",
       "    <tr>\n",
       "      <th>4</th>\n",
       "      <td>2004-09-02</td>\n",
       "      <td>123.737503</td>\n",
       "      <td>125.574997</td>\n",
       "      <td>123.250000</td>\n",
       "      <td>124.207497</td>\n",
       "      <td>90.924896</td>\n",
       "      <td>21356352.0</td>\n",
       "    </tr>\n",
       "    <tr>\n",
       "      <th>...</th>\n",
       "      <td>...</td>\n",
       "      <td>...</td>\n",
       "      <td>...</td>\n",
       "      <td>...</td>\n",
       "      <td>...</td>\n",
       "      <td>...</td>\n",
       "      <td>...</td>\n",
       "    </tr>\n",
       "    <tr>\n",
       "      <th>4489</th>\n",
       "      <td>2022-10-18</td>\n",
       "      <td>3150.000000</td>\n",
       "      <td>3155.350098</td>\n",
       "      <td>3128.550049</td>\n",
       "      <td>3144.699951</td>\n",
       "      <td>3144.699951</td>\n",
       "      <td>1793722.0</td>\n",
       "    </tr>\n",
       "    <tr>\n",
       "      <th>4490</th>\n",
       "      <td>2022-10-19</td>\n",
       "      <td>3159.000000</td>\n",
       "      <td>3159.000000</td>\n",
       "      <td>3112.000000</td>\n",
       "      <td>3121.850098</td>\n",
       "      <td>3121.850098</td>\n",
       "      <td>1194289.0</td>\n",
       "    </tr>\n",
       "    <tr>\n",
       "      <th>4491</th>\n",
       "      <td>2022-10-20</td>\n",
       "      <td>3105.000000</td>\n",
       "      <td>3160.000000</td>\n",
       "      <td>3105.000000</td>\n",
       "      <td>3157.300049</td>\n",
       "      <td>3157.300049</td>\n",
       "      <td>1587601.0</td>\n",
       "    </tr>\n",
       "    <tr>\n",
       "      <th>4492</th>\n",
       "      <td>2022-10-21</td>\n",
       "      <td>3157.800049</td>\n",
       "      <td>3160.399902</td>\n",
       "      <td>3127.000000</td>\n",
       "      <td>3137.399902</td>\n",
       "      <td>3137.399902</td>\n",
       "      <td>1021913.0</td>\n",
       "    </tr>\n",
       "    <tr>\n",
       "      <th>4493</th>\n",
       "      <td>2022-10-24</td>\n",
       "      <td>3170.100098</td>\n",
       "      <td>3178.000000</td>\n",
       "      <td>3155.000000</td>\n",
       "      <td>3161.699951</td>\n",
       "      <td>3161.699951</td>\n",
       "      <td>260949.0</td>\n",
       "    </tr>\n",
       "  </tbody>\n",
       "</table>\n",
       "<p>4494 rows × 7 columns</p>\n",
       "</div>"
      ],
      "text/plain": [
       "            Date         Open         High          Low        Close  \\\n",
       "0     2004-08-27   122.800003   122.800003   119.820000   120.332497   \n",
       "1     2004-08-30   121.237503   123.750000   120.625000   123.345001   \n",
       "2     2004-08-31   123.312500   123.750000   122.000000   123.512497   \n",
       "3     2004-09-01   123.750000   124.375000   122.949997   123.487503   \n",
       "4     2004-09-02   123.737503   125.574997   123.250000   124.207497   \n",
       "...          ...          ...          ...          ...          ...   \n",
       "4489  2022-10-18  3150.000000  3155.350098  3128.550049  3144.699951   \n",
       "4490  2022-10-19  3159.000000  3159.000000  3112.000000  3121.850098   \n",
       "4491  2022-10-20  3105.000000  3160.000000  3105.000000  3157.300049   \n",
       "4492  2022-10-21  3157.800049  3160.399902  3127.000000  3137.399902   \n",
       "4493  2022-10-24  3170.100098  3178.000000  3155.000000  3161.699951   \n",
       "\n",
       "        Adj Close      Volume  \n",
       "0       88.088272  30646000.0  \n",
       "1       90.293549  24465208.0  \n",
       "2       90.416122  21194656.0  \n",
       "3       90.397820  19935544.0  \n",
       "4       90.924896  21356352.0  \n",
       "...           ...         ...  \n",
       "4489  3144.699951   1793722.0  \n",
       "4490  3121.850098   1194289.0  \n",
       "4491  3157.300049   1587601.0  \n",
       "4492  3137.399902   1021913.0  \n",
       "4493  3161.699951    260949.0  \n",
       "\n",
       "[4494 rows x 7 columns]"
      ]
     },
     "execution_count": 2,
     "metadata": {},
     "output_type": "execute_result"
    }
   ],
   "source": [
    "df=pd.read_csv(\"C:\\\\Users\\\\absub\\\\Downloads\\\\TCS1.csv\")\n",
    "df"
   ]
  },
  {
   "cell_type": "markdown",
   "id": "8463524b",
   "metadata": {},
   "source": [
    "# Data Manipulation"
   ]
  },
  {
   "cell_type": "code",
   "execution_count": 3,
   "id": "9aeb03f4",
   "metadata": {},
   "outputs": [
    {
     "data": {
      "text/html": [
       "<div>\n",
       "<style scoped>\n",
       "    .dataframe tbody tr th:only-of-type {\n",
       "        vertical-align: middle;\n",
       "    }\n",
       "\n",
       "    .dataframe tbody tr th {\n",
       "        vertical-align: top;\n",
       "    }\n",
       "\n",
       "    .dataframe thead th {\n",
       "        text-align: right;\n",
       "    }\n",
       "</style>\n",
       "<table border=\"1\" class=\"dataframe\">\n",
       "  <thead>\n",
       "    <tr style=\"text-align: right;\">\n",
       "      <th></th>\n",
       "      <th>Date</th>\n",
       "      <th>Open</th>\n",
       "      <th>High</th>\n",
       "      <th>Low</th>\n",
       "      <th>Close</th>\n",
       "      <th>Adj Close</th>\n",
       "      <th>Volume</th>\n",
       "    </tr>\n",
       "  </thead>\n",
       "  <tbody>\n",
       "    <tr>\n",
       "      <th>0</th>\n",
       "      <td>2004-08-27</td>\n",
       "      <td>122.800003</td>\n",
       "      <td>122.800003</td>\n",
       "      <td>119.820000</td>\n",
       "      <td>120.332497</td>\n",
       "      <td>88.088272</td>\n",
       "      <td>30646000.0</td>\n",
       "    </tr>\n",
       "    <tr>\n",
       "      <th>1</th>\n",
       "      <td>2004-08-30</td>\n",
       "      <td>121.237503</td>\n",
       "      <td>123.750000</td>\n",
       "      <td>120.625000</td>\n",
       "      <td>123.345001</td>\n",
       "      <td>90.293549</td>\n",
       "      <td>24465208.0</td>\n",
       "    </tr>\n",
       "    <tr>\n",
       "      <th>2</th>\n",
       "      <td>2004-08-31</td>\n",
       "      <td>123.312500</td>\n",
       "      <td>123.750000</td>\n",
       "      <td>122.000000</td>\n",
       "      <td>123.512497</td>\n",
       "      <td>90.416122</td>\n",
       "      <td>21194656.0</td>\n",
       "    </tr>\n",
       "    <tr>\n",
       "      <th>3</th>\n",
       "      <td>2004-09-01</td>\n",
       "      <td>123.750000</td>\n",
       "      <td>124.375000</td>\n",
       "      <td>122.949997</td>\n",
       "      <td>123.487503</td>\n",
       "      <td>90.397820</td>\n",
       "      <td>19935544.0</td>\n",
       "    </tr>\n",
       "    <tr>\n",
       "      <th>4</th>\n",
       "      <td>2004-09-02</td>\n",
       "      <td>123.737503</td>\n",
       "      <td>125.574997</td>\n",
       "      <td>123.250000</td>\n",
       "      <td>124.207497</td>\n",
       "      <td>90.924896</td>\n",
       "      <td>21356352.0</td>\n",
       "    </tr>\n",
       "  </tbody>\n",
       "</table>\n",
       "</div>"
      ],
      "text/plain": [
       "         Date        Open        High         Low       Close  Adj Close  \\\n",
       "0  2004-08-27  122.800003  122.800003  119.820000  120.332497  88.088272   \n",
       "1  2004-08-30  121.237503  123.750000  120.625000  123.345001  90.293549   \n",
       "2  2004-08-31  123.312500  123.750000  122.000000  123.512497  90.416122   \n",
       "3  2004-09-01  123.750000  124.375000  122.949997  123.487503  90.397820   \n",
       "4  2004-09-02  123.737503  125.574997  123.250000  124.207497  90.924896   \n",
       "\n",
       "       Volume  \n",
       "0  30646000.0  \n",
       "1  24465208.0  \n",
       "2  21194656.0  \n",
       "3  19935544.0  \n",
       "4  21356352.0  "
      ]
     },
     "execution_count": 3,
     "metadata": {},
     "output_type": "execute_result"
    }
   ],
   "source": [
    "#Getting first five record\n",
    "df.head()"
   ]
  },
  {
   "cell_type": "code",
   "execution_count": 4,
   "id": "63512a52",
   "metadata": {},
   "outputs": [
    {
     "data": {
      "text/html": [
       "<div>\n",
       "<style scoped>\n",
       "    .dataframe tbody tr th:only-of-type {\n",
       "        vertical-align: middle;\n",
       "    }\n",
       "\n",
       "    .dataframe tbody tr th {\n",
       "        vertical-align: top;\n",
       "    }\n",
       "\n",
       "    .dataframe thead th {\n",
       "        text-align: right;\n",
       "    }\n",
       "</style>\n",
       "<table border=\"1\" class=\"dataframe\">\n",
       "  <thead>\n",
       "    <tr style=\"text-align: right;\">\n",
       "      <th></th>\n",
       "      <th>Date</th>\n",
       "      <th>Open</th>\n",
       "      <th>High</th>\n",
       "      <th>Low</th>\n",
       "      <th>Close</th>\n",
       "      <th>Adj Close</th>\n",
       "      <th>Volume</th>\n",
       "    </tr>\n",
       "  </thead>\n",
       "  <tbody>\n",
       "    <tr>\n",
       "      <th>4489</th>\n",
       "      <td>2022-10-18</td>\n",
       "      <td>3150.000000</td>\n",
       "      <td>3155.350098</td>\n",
       "      <td>3128.550049</td>\n",
       "      <td>3144.699951</td>\n",
       "      <td>3144.699951</td>\n",
       "      <td>1793722.0</td>\n",
       "    </tr>\n",
       "    <tr>\n",
       "      <th>4490</th>\n",
       "      <td>2022-10-19</td>\n",
       "      <td>3159.000000</td>\n",
       "      <td>3159.000000</td>\n",
       "      <td>3112.000000</td>\n",
       "      <td>3121.850098</td>\n",
       "      <td>3121.850098</td>\n",
       "      <td>1194289.0</td>\n",
       "    </tr>\n",
       "    <tr>\n",
       "      <th>4491</th>\n",
       "      <td>2022-10-20</td>\n",
       "      <td>3105.000000</td>\n",
       "      <td>3160.000000</td>\n",
       "      <td>3105.000000</td>\n",
       "      <td>3157.300049</td>\n",
       "      <td>3157.300049</td>\n",
       "      <td>1587601.0</td>\n",
       "    </tr>\n",
       "    <tr>\n",
       "      <th>4492</th>\n",
       "      <td>2022-10-21</td>\n",
       "      <td>3157.800049</td>\n",
       "      <td>3160.399902</td>\n",
       "      <td>3127.000000</td>\n",
       "      <td>3137.399902</td>\n",
       "      <td>3137.399902</td>\n",
       "      <td>1021913.0</td>\n",
       "    </tr>\n",
       "    <tr>\n",
       "      <th>4493</th>\n",
       "      <td>2022-10-24</td>\n",
       "      <td>3170.100098</td>\n",
       "      <td>3178.000000</td>\n",
       "      <td>3155.000000</td>\n",
       "      <td>3161.699951</td>\n",
       "      <td>3161.699951</td>\n",
       "      <td>260949.0</td>\n",
       "    </tr>\n",
       "  </tbody>\n",
       "</table>\n",
       "</div>"
      ],
      "text/plain": [
       "            Date         Open         High          Low        Close  \\\n",
       "4489  2022-10-18  3150.000000  3155.350098  3128.550049  3144.699951   \n",
       "4490  2022-10-19  3159.000000  3159.000000  3112.000000  3121.850098   \n",
       "4491  2022-10-20  3105.000000  3160.000000  3105.000000  3157.300049   \n",
       "4492  2022-10-21  3157.800049  3160.399902  3127.000000  3137.399902   \n",
       "4493  2022-10-24  3170.100098  3178.000000  3155.000000  3161.699951   \n",
       "\n",
       "        Adj Close     Volume  \n",
       "4489  3144.699951  1793722.0  \n",
       "4490  3121.850098  1194289.0  \n",
       "4491  3157.300049  1587601.0  \n",
       "4492  3137.399902  1021913.0  \n",
       "4493  3161.699951   260949.0  "
      ]
     },
     "execution_count": 4,
     "metadata": {},
     "output_type": "execute_result"
    }
   ],
   "source": [
    "#Getting last five record\n",
    "df.tail()"
   ]
  },
  {
   "cell_type": "code",
   "execution_count": 5,
   "id": "6983c4b7",
   "metadata": {},
   "outputs": [
    {
     "data": {
      "text/plain": [
       "(4494, 7)"
      ]
     },
     "execution_count": 5,
     "metadata": {},
     "output_type": "execute_result"
    }
   ],
   "source": [
    "#Looking the number of row and column\n",
    "df.shape"
   ]
  },
  {
   "cell_type": "code",
   "execution_count": 6,
   "id": "8f3bea9b",
   "metadata": {},
   "outputs": [
    {
     "data": {
      "text/plain": [
       "Index(['Date', 'Open', 'High', 'Low', 'Close', 'Adj Close', 'Volume'], dtype='object')"
      ]
     },
     "execution_count": 6,
     "metadata": {},
     "output_type": "execute_result"
    }
   ],
   "source": [
    "#Getting information of column in dataset\n",
    "df.columns"
   ]
  },
  {
   "cell_type": "code",
   "execution_count": 7,
   "id": "0110da9f",
   "metadata": {},
   "outputs": [
    {
     "data": {
      "text/html": [
       "<div>\n",
       "<style scoped>\n",
       "    .dataframe tbody tr th:only-of-type {\n",
       "        vertical-align: middle;\n",
       "    }\n",
       "\n",
       "    .dataframe tbody tr th {\n",
       "        vertical-align: top;\n",
       "    }\n",
       "\n",
       "    .dataframe thead th {\n",
       "        text-align: right;\n",
       "    }\n",
       "</style>\n",
       "<table border=\"1\" class=\"dataframe\">\n",
       "  <thead>\n",
       "    <tr style=\"text-align: right;\">\n",
       "      <th></th>\n",
       "      <th>Open</th>\n",
       "      <th>High</th>\n",
       "      <th>Low</th>\n",
       "      <th>Close</th>\n",
       "      <th>Adj Close</th>\n",
       "      <th>Volume</th>\n",
       "    </tr>\n",
       "  </thead>\n",
       "  <tbody>\n",
       "    <tr>\n",
       "      <th>count</th>\n",
       "      <td>4486.000000</td>\n",
       "      <td>4486.000000</td>\n",
       "      <td>4486.000000</td>\n",
       "      <td>4486.000000</td>\n",
       "      <td>4486.000000</td>\n",
       "      <td>4.486000e+03</td>\n",
       "    </tr>\n",
       "    <tr>\n",
       "      <th>mean</th>\n",
       "      <td>1146.182768</td>\n",
       "      <td>1158.538059</td>\n",
       "      <td>1132.825428</td>\n",
       "      <td>1145.521462</td>\n",
       "      <td>1049.456965</td>\n",
       "      <td>3.620596e+06</td>\n",
       "    </tr>\n",
       "    <tr>\n",
       "      <th>std</th>\n",
       "      <td>994.070086</td>\n",
       "      <td>1003.010607</td>\n",
       "      <td>984.043404</td>\n",
       "      <td>993.346465</td>\n",
       "      <td>992.062558</td>\n",
       "      <td>3.162368e+06</td>\n",
       "    </tr>\n",
       "    <tr>\n",
       "      <th>min</th>\n",
       "      <td>112.000000</td>\n",
       "      <td>116.112503</td>\n",
       "      <td>103.837502</td>\n",
       "      <td>111.550003</td>\n",
       "      <td>86.565590</td>\n",
       "      <td>0.000000e+00</td>\n",
       "    </tr>\n",
       "    <tr>\n",
       "      <th>25%</th>\n",
       "      <td>290.693748</td>\n",
       "      <td>295.300010</td>\n",
       "      <td>285.931259</td>\n",
       "      <td>290.275009</td>\n",
       "      <td>219.902748</td>\n",
       "      <td>1.942489e+06</td>\n",
       "    </tr>\n",
       "    <tr>\n",
       "      <th>50%</th>\n",
       "      <td>977.450012</td>\n",
       "      <td>995.000000</td>\n",
       "      <td>970.250000</td>\n",
       "      <td>981.337524</td>\n",
       "      <td>820.627839</td>\n",
       "      <td>2.804749e+06</td>\n",
       "    </tr>\n",
       "    <tr>\n",
       "      <th>75%</th>\n",
       "      <td>1564.774963</td>\n",
       "      <td>1597.287476</td>\n",
       "      <td>1548.662537</td>\n",
       "      <td>1576.781219</td>\n",
       "      <td>1443.631561</td>\n",
       "      <td>4.297410e+06</td>\n",
       "    </tr>\n",
       "    <tr>\n",
       "      <th>max</th>\n",
       "      <td>4033.949951</td>\n",
       "      <td>4043.000000</td>\n",
       "      <td>3980.000000</td>\n",
       "      <td>4019.149902</td>\n",
       "      <td>3964.502686</td>\n",
       "      <td>8.806715e+07</td>\n",
       "    </tr>\n",
       "  </tbody>\n",
       "</table>\n",
       "</div>"
      ],
      "text/plain": [
       "              Open         High          Low        Close    Adj Close  \\\n",
       "count  4486.000000  4486.000000  4486.000000  4486.000000  4486.000000   \n",
       "mean   1146.182768  1158.538059  1132.825428  1145.521462  1049.456965   \n",
       "std     994.070086  1003.010607   984.043404   993.346465   992.062558   \n",
       "min     112.000000   116.112503   103.837502   111.550003    86.565590   \n",
       "25%     290.693748   295.300010   285.931259   290.275009   219.902748   \n",
       "50%     977.450012   995.000000   970.250000   981.337524   820.627839   \n",
       "75%    1564.774963  1597.287476  1548.662537  1576.781219  1443.631561   \n",
       "max    4033.949951  4043.000000  3980.000000  4019.149902  3964.502686   \n",
       "\n",
       "             Volume  \n",
       "count  4.486000e+03  \n",
       "mean   3.620596e+06  \n",
       "std    3.162368e+06  \n",
       "min    0.000000e+00  \n",
       "25%    1.942489e+06  \n",
       "50%    2.804749e+06  \n",
       "75%    4.297410e+06  \n",
       "max    8.806715e+07  "
      ]
     },
     "execution_count": 7,
     "metadata": {},
     "output_type": "execute_result"
    }
   ],
   "source": [
    "#Getting statistical information of dataset\n",
    "df.describe()"
   ]
  },
  {
   "cell_type": "markdown",
   "id": "e12a84b2",
   "metadata": {},
   "source": [
    "# Data Visualisation"
   ]
  },
  {
   "cell_type": "code",
   "execution_count": 8,
   "id": "17c650aa",
   "metadata": {},
   "outputs": [],
   "source": [
    "df=df.reset_index()['Close']"
   ]
  },
  {
   "cell_type": "code",
   "execution_count": 9,
   "id": "bd1a73de",
   "metadata": {},
   "outputs": [
    {
     "data": {
      "text/plain": [
       "0        120.332497\n",
       "1        123.345001\n",
       "2        123.512497\n",
       "3        123.487503\n",
       "4        124.207497\n",
       "           ...     \n",
       "4489    3144.699951\n",
       "4490    3121.850098\n",
       "4491    3157.300049\n",
       "4492    3137.399902\n",
       "4493    3161.699951\n",
       "Name: Close, Length: 4494, dtype: float64"
      ]
     },
     "execution_count": 9,
     "metadata": {},
     "output_type": "execute_result"
    }
   ],
   "source": [
    "df"
   ]
  },
  {
   "cell_type": "code",
   "execution_count": 10,
   "id": "1ba3a62d",
   "metadata": {},
   "outputs": [],
   "source": [
    "import matplotlib.pyplot as plt"
   ]
  },
  {
   "cell_type": "code",
   "execution_count": 11,
   "id": "74d06e7d",
   "metadata": {},
   "outputs": [
    {
     "data": {
      "image/png": "[encoded data removed]",
      "text/plain": [
       "<Figure size 640x480 with 1 Axes>"
      ]
     },
     "metadata": {},
     "output_type": "display_data"
    }
   ],
   "source": [
    "plt.plot(df)\n",
    "plt.show()"
   ]
  },
  {
   "cell_type": "markdown",
   "id": "95cb3670",
   "metadata": {},
   "source": [
    "# LSTM are sensitive to the scale of the data.so we apply MinMax scaler"
   ]
  },
  {
   "cell_type": "code",
   "execution_count": 12,
   "id": "02480fca",
   "metadata": {},
   "outputs": [],
   "source": [
    "import numpy as np"
   ]
  },
  {
   "cell_type": "code",
   "execution_count": 13,
   "id": "b99b1cb8",
   "metadata": {},
   "outputs": [],
   "source": [
    "from sklearn.preprocessing import MinMaxScaler\n",
    "scaler=MinMaxScaler(feature_range=(0,1))\n",
    "df=scaler.fit_transform(np.array(df).reshape(-1,1))"
   ]
  },
  {
   "cell_type": "code",
   "execution_count": 14,
   "id": "03c76741",
   "metadata": {},
   "outputs": [
    {
     "data": {
      "text/plain": [
       "(4494, 1)"
      ]
     },
     "execution_count": 14,
     "metadata": {},
     "output_type": "execute_result"
    }
   ],
   "source": [
    "df.shape"
   ]
  },
  {
   "cell_type": "code",
   "execution_count": 15,
   "id": "c41a8b59",
   "metadata": {},
   "outputs": [
    {
     "data": {
      "text/plain": [
       "array([[0.00224754],\n",
       "       [0.00301848],\n",
       "       [0.00306134],\n",
       "       ...,\n",
       "       [0.77944266],\n",
       "       [0.77434998],\n",
       "       [0.78056864]])"
      ]
     },
     "execution_count": 15,
     "metadata": {},
     "output_type": "execute_result"
    }
   ],
   "source": [
    "df"
   ]
  },
  {
   "cell_type": "code",
   "execution_count": 16,
   "id": "2d0d6634",
   "metadata": {},
   "outputs": [],
   "source": [
    "#splitting dataset into train and test split\n",
    "training_size=int(len(df)*0.65)\n",
    "test_size=len(df)-training_size\n",
    "train_data,test_data=df[0:training_size,:],df[training_size:len(df),:1]"
   ]
  },
  {
   "cell_type": "code",
   "execution_count": 17,
   "id": "50f1213a",
   "metadata": {},
   "outputs": [
    {
     "data": {
      "text/plain": [
       "(2921, 1573)"
      ]
     },
     "execution_count": 17,
     "metadata": {},
     "output_type": "execute_result"
    }
   ],
   "source": [
    "training_size,test_size"
   ]
  },
  {
   "cell_type": "code",
   "execution_count": 19,
   "id": "04d10e8e",
   "metadata": {},
   "outputs": [
    {
     "data": {
      "text/plain": [
       "(2921, 1573)"
      ]
     },
     "execution_count": 19,
     "metadata": {},
     "output_type": "execute_result"
    }
   ],
   "source": [
    "len(train_data),len(test_data)"
   ]
  },
  {
   "cell_type": "code",
   "execution_count": 20,
   "id": "b9ca7747",
   "metadata": {},
   "outputs": [
    {
     "data": {
      "text/plain": [
       "array([[0.00224754],\n",
       "       [0.00301848],\n",
       "       [0.00306134],\n",
       "       ...,\n",
       "       [0.3012271 ],\n",
       "       [0.29847605],\n",
       "       [0.29735644]])"
      ]
     },
     "execution_count": 20,
     "metadata": {},
     "output_type": "execute_result"
    }
   ],
   "source": [
    "train_data"
   ]
  },
  {
   "cell_type": "code",
   "execution_count": 21,
   "id": "ac718e80",
   "metadata": {},
   "outputs": [],
   "source": [
    "import numpy\n",
    "#convert an array of values into a dataset matrix\n",
    "def create_dataset(dataset,time_step=1):\n",
    "    dataX,dataY=[],[]\n",
    "    for i in range(len(dataset)-time_step-1):\n",
    "        a=dataset[i:(i+time_step),0]\n",
    "        dataX.append(a)\n",
    "        dataY.append(dataset[i+time_step,0])\n",
    "    return numpy.array(dataX),numpy.array(dataY)    "
   ]
  },
  {
   "cell_type": "code",
   "execution_count": 25,
   "id": "d998ba97",
   "metadata": {},
   "outputs": [],
   "source": [
    "time_step=100\n",
    "x_train,y_train=create_dataset(train_data,time_step)\n",
    "x_test,y_test=create_dataset(test_data,time_step)"
   ]
  },
  {
   "cell_type": "code",
   "execution_count": 26,
   "id": "a6ee57ee",
   "metadata": {},
   "outputs": [
    {
     "data": {
      "text/plain": [
       "array([[0.00224754, 0.00301848, 0.00306134, ..., 0.01347886, 0.01297664,\n",
       "        0.01281157],\n",
       "       [0.00301848, 0.00306134, 0.00305494, ..., 0.01297664, 0.01281157,\n",
       "        0.01292353],\n",
       "       [0.00306134, 0.00305494, 0.0032392 , ..., 0.01281157, 0.01292353,\n",
       "        0.01186342],\n",
       "       ...,\n",
       "       [0.27372942, 0.26921257, 0.26308988, ..., 0.3079192 , 0.30573754,\n",
       "        0.30812391],\n",
       "       [0.26921257, 0.26308988, 0.26303871, ..., 0.30573754, 0.30812391,\n",
       "        0.30581433],\n",
       "       [0.26308988, 0.26303871, 0.2607739 , ..., 0.30812391, 0.30581433,\n",
       "        0.3012271 ]])"
      ]
     },
     "execution_count": 26,
     "metadata": {},
     "output_type": "execute_result"
    }
   ],
   "source": [
    "x_train"
   ]
  },
  {
   "cell_type": "code",
   "execution_count": 27,
   "id": "91b696b1",
   "metadata": {},
   "outputs": [
    {
     "data": {
      "text/plain": [
       "((1472, 100), (1472,))"
      ]
     },
     "execution_count": 27,
     "metadata": {},
     "output_type": "execute_result"
    }
   ],
   "source": [
    "x_test.shape,y_test.shape"
   ]
  },
  {
   "cell_type": "code",
   "execution_count": 28,
   "id": "b9a42a62",
   "metadata": {},
   "outputs": [],
   "source": [
    "#reshape input to the which is required for LSTM\n",
    "x_train=x_train.reshape(x_train.shape[0],x_train.shape[1],1)\n",
    "x_test=x_test.reshape(x_test.shape[0],x_test.shape[1],1)"
   ]
  },
  {
   "cell_type": "code",
   "execution_count": 3,
   "id": "2f43aa31",
   "metadata": {},
   "outputs": [
    {
     "ename": "ModuleNotFoundError",
     "evalue": "No module named 'tensorflow'",
     "output_type": "error",
     "traceback": [
      "\u001b[1;31m---------------------------------------------------------------------------\u001b[0m",
      "\u001b[1;31mModuleNotFoundError\u001b[0m                       Traceback (most recent call last)",
      "Cell \u001b[1;32mIn[3], line 1\u001b[0m\n\u001b[1;32m----> 1\u001b[0m \u001b[38;5;28;01mfrom\u001b[39;00m \u001b[38;5;21;01mtensorflow\u001b[39;00m\u001b[38;5;21;01m.\u001b[39;00m\u001b[38;5;21;01mkeras\u001b[39;00m\u001b[38;5;21;01m.\u001b[39;00m\u001b[38;5;21;01mmodels\u001b[39;00m \u001b[38;5;28;01mimport\u001b[39;00m Sequential\n\u001b[0;32m      2\u001b[0m \u001b[38;5;28;01mfrom\u001b[39;00m \u001b[38;5;21;01mtensorflow\u001b[39;00m\u001b[38;5;21;01m.\u001b[39;00m\u001b[38;5;21;01mkeras\u001b[39;00m\u001b[38;5;21;01m.\u001b[39;00m\u001b[38;5;21;01mlayers\u001b[39;00m \u001b[38;5;28;01mimport\u001b[39;00m Dense\n\u001b[0;32m      3\u001b[0m \u001b[38;5;28;01mfrom\u001b[39;00m \u001b[38;5;21;01mtensorflow\u001b[39;00m\u001b[38;5;21;01m.\u001b[39;00m\u001b[38;5;21;01mkeras\u001b[39;00m\u001b[38;5;21;01m.\u001b[39;00m\u001b[38;5;21;01mlayers\u001b[39;00m \u001b[38;5;28;01mimport\u001b[39;00m LSTM\n",
      "\u001b[1;31mModuleNotFoundError\u001b[0m: No module named 'tensorflow'"
     ]
    }
   ],
   "source": [
    "from tensorflow.keras.models import Sequential\n",
    "from tensorflow.keras.layers import Dense\n",
    "from tensorflow.keras.layers import LSTM"
   ]
  },
  {
   "cell_type": "code",
   "execution_count": null,
   "id": "b545ed3f",
   "metadata": {},
   "outputs": [],
   "source": [
    "model=Sequential()\n",
    "model.add(LSTM(50,return_sequences=True,input_shape=(100,1)))\n",
    "model.add(LSTM(50,return_sequences=True))\n",
    "model.add(LSTM(50))\n",
    "model.add(Dense(1))\n",
    "model.compile(loss='mean_squared_error',optimize='adam')"
   ]
  },
  {
   "cell_type": "code",
   "execution_count": null,
   "id": "62bb31c3",
   "metadata": {},
   "outputs": [],
   "source": [
    "model.summary()"
   ]
  },
  {
   "cell_type": "code",
   "execution_count": 7,
   "id": "88c3eaab",
   "metadata": {},
   "outputs": [
    {
     "ename": "ModuleNotFoundError",
     "evalue": "No module named 'tensorflow'",
     "output_type": "error",
     "traceback": [
      "\u001b[1;31m---------------------------------------------------------------------------\u001b[0m",
      "\u001b[1;31mModuleNotFoundError\u001b[0m                       Traceback (most recent call last)",
      "Cell \u001b[1;32mIn[7], line 1\u001b[0m\n\u001b[1;32m----> 1\u001b[0m \u001b[38;5;28;01mimport\u001b[39;00m \u001b[38;5;21;01mtensorflow\u001b[39;00m \u001b[38;5;28;01mas\u001b[39;00m \u001b[38;5;21;01mtf\u001b[39;00m\n",
      "\u001b[1;31mModuleNotFoundError\u001b[0m: No module named 'tensorflow'"
     ]
    }
   ],
   "source": [
    "import tensorflow as tf"
   ]
  },
  {
   "cell_type": "code",
   "execution_count": null,
   "id": "2fd8616d",
   "metadata": {},
   "outputs": [],
   "source": []
  },
  {
   "cell_type": "code",
   "execution_count": null,
   "id": "62a247a1",
   "metadata": {},
   "outputs": [],
   "source": []
  }
 ],
 "metadata": {
  "kernelspec": {
   "display_name": "Python 3 (ipykernel)",
   "language": "python",
   "name": "python3"
  },
  "language_info": {
   "codemirror_mode": {
    "name": "ipython",
    "version": 3
   },
   "file_extension": ".py",
   "mimetype": "text/x-python",
   "name": "python",
   "nbconvert_exporter": "python",
   "pygments_lexer": "ipython3",
   "version": "3.10.9"
  }
 },
 "nbformat": 4,
 "nbformat_minor": 5
}
